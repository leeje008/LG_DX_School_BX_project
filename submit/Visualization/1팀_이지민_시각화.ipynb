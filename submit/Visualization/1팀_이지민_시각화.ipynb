{
 "cells": [
  {
   "cell_type": "markdown",
   "id": "cc4a2c99-8c30-4de3-9182-b63768c2e26f",
   "metadata": {},
   "source": [
    "## DX 지표: 연도별 수면 데이터량"
   ]
  },
  {
   "cell_type": "code",
   "execution_count": 1,
   "id": "5c6d9931-7a9b-4cee-9e6b-537cf6d1f6b8",
   "metadata": {},
   "outputs": [],
   "source": [
    "import pandas as pd\n",
    "import numpy as np"
   ]
  },
  {
   "cell_type": "code",
   "execution_count": 2,
   "id": "ba108d56-7126-4b2f-bf91-23e365d9f360",
   "metadata": {},
   "outputs": [],
   "source": [
    "# 한글 폰트 적용\n",
    "import matplotlib.pyplot as plt\n",
    "plt.rc('font', family='Malgun Gothic')"
   ]
  },
  {
   "cell_type": "code",
   "execution_count": 12,
   "id": "d6dc957f-4149-4072-a0e8-2008b137b899",
   "metadata": {},
   "outputs": [],
   "source": [
    "colors_dx = ['#CFF4D2','#7DE493','#55C595','#359D9E','#205072','#205072']"
   ]
  },
  {
   "cell_type": "code",
   "execution_count": 3,
   "id": "7f954e97-fe14-4f9a-9bcf-46dcf23f68df",
   "metadata": {},
   "outputs": [
    {
     "data": {
      "text/html": [
       "<div>\n",
       "<style scoped>\n",
       "    .dataframe tbody tr th:only-of-type {\n",
       "        vertical-align: middle;\n",
       "    }\n",
       "\n",
       "    .dataframe tbody tr th {\n",
       "        vertical-align: top;\n",
       "    }\n",
       "\n",
       "    .dataframe thead th {\n",
       "        text-align: right;\n",
       "    }\n",
       "</style>\n",
       "<table border=\"1\" class=\"dataframe\">\n",
       "  <thead>\n",
       "    <tr style=\"text-align: right;\">\n",
       "      <th></th>\n",
       "      <th>Year</th>\n",
       "      <th>Month</th>\n",
       "      <th>Users</th>\n",
       "    </tr>\n",
       "  </thead>\n",
       "  <tbody>\n",
       "    <tr>\n",
       "      <th>0</th>\n",
       "      <td>2024</td>\n",
       "      <td>1</td>\n",
       "      <td>44</td>\n",
       "    </tr>\n",
       "    <tr>\n",
       "      <th>1</th>\n",
       "      <td>2024</td>\n",
       "      <td>2</td>\n",
       "      <td>48</td>\n",
       "    </tr>\n",
       "    <tr>\n",
       "      <th>2</th>\n",
       "      <td>2024</td>\n",
       "      <td>3</td>\n",
       "      <td>52</td>\n",
       "    </tr>\n",
       "    <tr>\n",
       "      <th>3</th>\n",
       "      <td>2024</td>\n",
       "      <td>4</td>\n",
       "      <td>56</td>\n",
       "    </tr>\n",
       "    <tr>\n",
       "      <th>4</th>\n",
       "      <td>2024</td>\n",
       "      <td>5</td>\n",
       "      <td>60</td>\n",
       "    </tr>\n",
       "    <tr>\n",
       "      <th>5</th>\n",
       "      <td>2024</td>\n",
       "      <td>6</td>\n",
       "      <td>64</td>\n",
       "    </tr>\n",
       "    <tr>\n",
       "      <th>6</th>\n",
       "      <td>2024</td>\n",
       "      <td>7</td>\n",
       "      <td>68</td>\n",
       "    </tr>\n",
       "    <tr>\n",
       "      <th>7</th>\n",
       "      <td>2024</td>\n",
       "      <td>8</td>\n",
       "      <td>72</td>\n",
       "    </tr>\n",
       "    <tr>\n",
       "      <th>8</th>\n",
       "      <td>2024</td>\n",
       "      <td>9</td>\n",
       "      <td>76</td>\n",
       "    </tr>\n",
       "    <tr>\n",
       "      <th>9</th>\n",
       "      <td>2024</td>\n",
       "      <td>10</td>\n",
       "      <td>80</td>\n",
       "    </tr>\n",
       "    <tr>\n",
       "      <th>10</th>\n",
       "      <td>2024</td>\n",
       "      <td>11</td>\n",
       "      <td>84</td>\n",
       "    </tr>\n",
       "    <tr>\n",
       "      <th>11</th>\n",
       "      <td>2024</td>\n",
       "      <td>12</td>\n",
       "      <td>96</td>\n",
       "    </tr>\n",
       "  </tbody>\n",
       "</table>\n",
       "</div>"
      ],
      "text/plain": [
       "    Year  Month  Users\n",
       "0   2024      1     44\n",
       "1   2024      2     48\n",
       "2   2024      3     52\n",
       "3   2024      4     56\n",
       "4   2024      5     60\n",
       "5   2024      6     64\n",
       "6   2024      7     68\n",
       "7   2024      8     72\n",
       "8   2024      9     76\n",
       "9   2024     10     80\n",
       "10  2024     11     84\n",
       "11  2024     12     96"
      ]
     },
     "execution_count": 3,
     "metadata": {},
     "output_type": "execute_result"
    }
   ],
   "source": [
    "import numpy as np\n",
    "import pandas as pd\n",
    "\n",
    "# 랜덤 시드 설정 (재현 가능성을 위해)\n",
    "np.random.seed(42)\n",
    "\n",
    "# 연도와 사용자 수 설정\n",
    "years = [2024, 2025, 2026, 2027, 2028, 2029]\n",
    "user_amounts = [800, 2176, 7986, 10004, 11046, 9813]\n",
    "\n",
    "# 빈 데이터프레임 생성\n",
    "data = pd.DataFrame()\n",
    "\n",
    "# 더미 데이터 생성\n",
    "for year, user_amount in zip(years, user_amounts):\n",
    "    # 사용자 수가 점진적으로 증가하도록 월별 사용자 수 설정\n",
    "    monthly_user_amounts = np.linspace(start=1, stop=2, num=12)\n",
    "    monthly_user_amounts = (monthly_user_amounts / monthly_user_amounts.sum()) * user_amount\n",
    "    monthly_user_amounts = monthly_user_amounts.astype(int)\n",
    "    monthly_user_amounts[-1] = user_amount - monthly_user_amounts[:-1].sum()  # 합계가 맞도록 마지막 달 조정\n",
    "    \n",
    "    for month, monthly_user_amount in enumerate(monthly_user_amounts, start=1):\n",
    "        # 현재 연도와 월의 데이터프레임 생성\n",
    "        month_data = pd.DataFrame({\n",
    "            'Year': [year],\n",
    "            'Month': [month],\n",
    "            'Users': [monthly_user_amount]\n",
    "        })\n",
    "        # 전체 데이터프레임에 현재 연도와 월의 데이터 추가\n",
    "        data = pd.concat([data, month_data], ignore_index=True)\n",
    "\n",
    "# 결과 출력 (데이터프레임의 처음과 끝 일부를 확인)\n",
    "data.head(12)"
   ]
  },
  {
   "cell_type": "code",
   "execution_count": 4,
   "id": "b18c680b-ca0a-42d2-83b8-0fb551a0b048",
   "metadata": {},
   "outputs": [],
   "source": [
    "sleep_data = data[['Year','Users']].groupby(by='Year').sum()"
   ]
  },
  {
   "cell_type": "code",
   "execution_count": 13,
   "id": "bbe939fd-ecc1-4584-be1e-3f2ac2eb3f1d",
   "metadata": {},
   "outputs": [
    {
     "data": {
      "text/plain": [
       "<Axes: title={'center': 'DX - 수면 데이터량'}, xlabel='Year'>"
      ]
     },
     "execution_count": 13,
     "metadata": {},
     "output_type": "execute_result"
    },
    {
     "data": {
      "image/png": "[encoded data removed]",
      "text/plain": [
       "<Figure size 640x480 with 1 Axes>"
      ]
     },
     "metadata": {},
     "output_type": "display_data"
    }
   ],
   "source": [
    "sleep_data.plot(kind='bar',rot=0, color=colors_dx, title = 'DX - 수면 데이터량')"
   ]
  }
 ],
 "metadata": {
  "kernelspec": {
   "display_name": "Python 3 (ipykernel)",
   "language": "python",
   "name": "python3"
  },
  "language_info": {
   "codemirror_mode": {
    "name": "ipython",
    "version": 3
   },
   "file_extension": ".py",
   "mimetype": "text/x-python",
   "name": "python",
   "nbconvert_exporter": "python",
   "pygments_lexer": "ipython3",
   "version": "3.11.7"
  }
 },
 "nbformat": 4,
 "nbformat_minor": 5
}
