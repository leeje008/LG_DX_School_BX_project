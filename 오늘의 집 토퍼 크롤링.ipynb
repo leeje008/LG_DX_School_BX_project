{
 "cells": [
  {
   "cell_type": "code",
   "execution_count": 1,
   "id": "524dcfde-fe2c-4c7f-bd55-80a871f95c83",
   "metadata": {},
   "outputs": [],
   "source": [
    "from selenium import webdriver\n",
    "from selenium.webdriver.common.by import By\n",
    "from selenium.webdriver.common.keys import Keys\n",
    "import time\n",
    "from bs4 import BeautifulSoup as bs\n",
    "from tqdm import tqdm\n",
    "from selenium.webdriver.support.ui import WebDriverWait\n",
    "from selenium.webdriver.support import expected_conditions as EC"
   ]
  },
  {
   "cell_type": "markdown",
   "id": "575a3f50-688d-42b0-bb6d-96dea333e186",
   "metadata": {},
   "source": [
    "### 리뷰 크롤링할 링크 수집"
   ]
  },
  {
   "cell_type": "code",
   "execution_count": 145,
   "id": "99e9f845-5bf1-4cd1-ab8d-329787cf3b6a",
   "metadata": {},
   "outputs": [],
   "source": [
    "driver = webdriver.Chrome()\n",
    "driver.get('https://ohou.se/productions/feed?query=%ED%86%A0%ED%8D%BC&search_affect_type=Typing')\n",
    "driver.maximize_window()\n",
    "\n",
    "url_list = []\n",
    "\n",
    "#스크롤 하기 전 페이지에서 링크 수집\n",
    "initial_soup = bs(driver.page_source, 'lxml') \n",
    "initial_urls = initial_soup.select('article.css-7k423j.etj6rb20>a')\n",
    "for link in initial_urls:\n",
    "    url_list.append(link['href'])\n",
    "\n",
    "# 스크롤하면서 링크 수집\n",
    "for i in range(3): #스크롤 횟수 조정 가능\n",
    "    driver.execute_script('window.scrollTo(0, document.body.scrollHeight);')\n",
    "    time.sleep(1)\n",
    "    new_soup = bs(driver.page_source, 'lxml')\n",
    "    new_url = new_soup.select('article.css-7k423j.etj6rb20>a')\n",
    "    for link in new_url:\n",
    "        url_list.append(link['href'])\n",
    "\n",
    "# 중복 제거\n",
    "url_list = list(set(url_list))\n",
    "\n",
    "# URL 리스트를 완전한 URL로 변환\n",
    "for i in range(len(url_list)):\n",
    "    url_list[i] = 'https://ohou.se'+url_list[i] "
   ]
  },
  {
   "cell_type": "code",
   "execution_count": 150,
   "id": "60f1c529-17da-4e57-9065-62b3da5ae9dd",
   "metadata": {},
   "outputs": [],
   "source": [
    "import pickle\n",
    "\n",
    "with open('topper_url.pkl', 'wb') as f:\n",
    "    pickle.dump(url_list, f)"
   ]
  },
  {
   "cell_type": "markdown",
   "id": "99b380bd-0dae-4eb2-8b99-e9cedc328ef5",
   "metadata": {},
   "source": [
    "### 크롤링"
   ]
  },
  {
   "cell_type": "code",
   "execution_count": null,
   "id": "f327c338-b9d5-483a-84e1-85a55293bedf",
   "metadata": {},
   "outputs": [],
   "source": [
    "import pickle\n",
    "with open('topper_url.pkl', 'rb') as f:\n",
    "    url_list = pickle.load(f)"
   ]
  },
  {
   "cell_type": "code",
   "execution_count": null,
   "id": "2f72d8e5-0f0c-4816-9e1f-cc150f5c3eb9",
   "metadata": {},
   "outputs": [],
   "source": [
    "# 드라이버 초기화\n",
    "driver = webdriver.Chrome()\n",
    "\n",
    "# 함수 정의\n",
    "def collect_reviews(url, max_reviews=200):\n",
    "    driver.get(url)\n",
    "    # 창 최대화 예외처리\n",
    "    try:\n",
    "        driver.maximize_window()\n",
    "    except Exception as e:\n",
    "        print(f\"Maximize window failed: {e}\")\n",
    "    time.sleep(1)\n",
    "    # 리뷰 버튼 없으면 넘어감\n",
    "    try: \n",
    "        driver.find_element(By.XPATH, '/html/body/div[1]/div/div/div[2]/div[4]/div/nav/ol/li[2]/a').click()\n",
    "    except:\n",
    "        pass\n",
    "\n",
    "    star_list = []\n",
    "    review_list = []\n",
    "    user_list = []\n",
    "    date_list = []\n",
    "\n",
    "    current_page = 2\n",
    "    previous_reviews = set()\n",
    "\n",
    "    try:\n",
    "        while len(review_list) < max_reviews:\n",
    "            time.sleep(0.5)\n",
    "\n",
    "            if current_page <= 5:\n",
    "                # 페이지 번호가 1~5인 경우\n",
    "                xpath = f'/html/body/div[1]/div/div/div[2]/div[5]/div/div[1]/div/section[2]/div/ul/li[{current_page}]/button'\n",
    "            else:\n",
    "                # 페이지 번호가 6 이상인 경우 (번호가 밀리는 상황)\n",
    "                xpath = f'/html/body/div[1]/div/div/div[2]/div[5]/div/div[1]/div/section[2]/div/ul/li[7]/button'\n",
    "\n",
    "            try:\n",
    "                WebDriverWait(driver, 10).until(\n",
    "                    EC.element_to_be_clickable((By.XPATH, xpath))\n",
    "                ).click()\n",
    "            except Exception as e:\n",
    "                print(f\"Failed to click next page button on page {current_page}: {e}\")\n",
    "                break\n",
    "\n",
    "            time.sleep(1)  # 페이지 로드 대기\n",
    "\n",
    "            soup = bs(driver.page_source, 'lxml')\n",
    "\n",
    "            stars = soup.find_all('span', class_='production-review-item__writer__info__total-star')\n",
    "            reviews = soup.select('.production-review-item__description')\n",
    "            username = soup.select('.production-review-item__writer__info__name')\n",
    "            reviewdate = soup.select('.production-review-item__writer__info__date')\n",
    "\n",
    "            new_reviews = [review.text for review in reviews]\n",
    "\n",
    "            # 이전에 수집된 리뷰와 중복되는지 확인\n",
    "            if any(review in previous_reviews for review in new_reviews):\n",
    "                print(f\"Duplicate reviews found on page {current_page} of {url}, moving to next URL\")\n",
    "                break\n",
    "\n",
    "            previous_reviews.update(new_reviews)\n",
    "\n",
    "            for star in stars:\n",
    "                aria_label = star.get('aria-label')\n",
    "                if aria_label:\n",
    "                    star_list.append(aria_label)\n",
    "\n",
    "            for review in reviews:\n",
    "                review_list.append(review.text)\n",
    "\n",
    "            for user in username:\n",
    "                user_list.append(user.text)\n",
    "\n",
    "            for date in reviewdate:\n",
    "                date_list.append(date.text)\n",
    "\n",
    "            # 페이지 번호를 증가시킴\n",
    "            current_page += 1\n",
    "\n",
    "            # 현재까지 수집된 리뷰 개수를 출력하고, 최대 개수에 도달하면 종료\n",
    "            print(f\"Collected {len(review_list)} reviews from {url}\")\n",
    "            if len(review_list) >= max_reviews:\n",
    "                print(f\"Stopping as collected {len(review_list)} reviews from {url}\")\n",
    "                break\n",
    "\n",
    "    except Exception as e:\n",
    "        print(f\"Error on page {current_page} of {url}: {e}\")\n",
    "\n",
    "    return star_list, review_list, user_list, date_list\n",
    "\n",
    "# 메인 리뷰 리스트\n",
    "all_star_list = []\n",
    "all_review_list = []\n",
    "all_user_list = []\n",
    "all_date_list = []\n",
    "\n",
    "for url in tqdm(iot_url_list):\n",
    "    star_list, review_list, user_list, date_list = collect_reviews(url)\n",
    "    all_star_list.extend(star_list)\n",
    "    all_review_list.extend(review_list)\n",
    "    all_user_list.extend(user_list)\n",
    "    all_date_list.extend(date_list)\n",
    "\n",
    "# 드라이버 종료\n",
    "driver.quit()\n",
    "\n",
    "# 결과 출력 (확인용)\n",
    "print(f\"Collected {len(all_star_list)} stars, {len(all_review_list)} reviews, {len(all_user_list)} users, and {len(all_date_list)} dates in total\")"
   ]
  },
  {
   "cell_type": "markdown",
   "id": "a1d71151-57de-4224-8abe-8d0c260ac392",
   "metadata": {},
   "source": [
    "### 데이터 전처리"
   ]
  },
  {
   "cell_type": "code",
   "execution_count": null,
   "id": "908130c2-1157-4318-8f4a-6fd265b5f084",
   "metadata": {},
   "outputs": [],
   "source": [
    "for i in range(len(all_review_list)):\n",
    "    all_review_list[i] = all_review_list[i].replace('\\n','')\n",
    "    \n",
    "for i in range(len(all_date_list)):\n",
    "    all_date_list[i] = all_date_list[i].replace(' ∙ 오늘의집 구매','')\n",
    "    all_date_list[i] = all_date_list[i].replace(' ∙ 오늘의집 비구매','')\n",
    "    \n",
    "for i in range(len(all_star_list)):\n",
    "    all_star_list[i] = all_star_list[i].replace('별점 ','').replace('점','')"
   ]
  },
  {
   "cell_type": "markdown",
   "id": "387d21d8-dbbd-467a-bab6-d14f6fc555ab",
   "metadata": {},
   "source": [
    "### 데이터 프레임으로 저장"
   ]
  },
  {
   "cell_type": "code",
   "execution_count": null,
   "id": "9f024064-abd6-49d2-ba1a-d0751ce62afa",
   "metadata": {},
   "outputs": [],
   "source": [
    "import pandas as pd\n",
    "topper_review = {'작성자':all_user_list, '작성날짜':all_date_list, '별점':all_star_list, '내용':all_review_list}\n",
    "topper = pd.DataFrame(topper_review)"
   ]
  }
 ],
 "metadata": {
  "kernelspec": {
   "display_name": "Python 3 (ipykernel)",
   "language": "python",
   "name": "python3"
  },
  "language_info": {
   "codemirror_mode": {
    "name": "ipython",
    "version": 3
   },
   "file_extension": ".py",
   "mimetype": "text/x-python",
   "name": "python",
   "nbconvert_exporter": "python",
   "pygments_lexer": "ipython3",
   "version": "3.11.7"
  }
 },
 "nbformat": 4,
 "nbformat_minor": 5
}
