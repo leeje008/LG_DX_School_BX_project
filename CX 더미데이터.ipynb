{
 "cells": [
  {
   "cell_type": "code",
   "execution_count": 1,
   "id": "9c8935f6-bae2-414e-9e40-4834c97d6388",
   "metadata": {},
   "outputs": [],
   "source": [
    "import pandas as pd"
   ]
  },
  {
   "cell_type": "code",
   "execution_count": 2,
   "id": "a40df0d1-9d6a-42ce-89f8-03b3923943bf",
   "metadata": {},
   "outputs": [],
   "source": [
    "import matplotlib.pyplot as plt\n",
    "plt.rc('font', family = 'Malgun Gothic')"
   ]
  },
  {
   "cell_type": "code",
   "execution_count": 3,
   "id": "742161c1-2e39-41cb-9da1-cbc636c57e53",
   "metadata": {},
   "outputs": [],
   "source": [
    "names = [\n",
    "    \"김민수\", \"이서연\", \"박지훈\", \"최지아\", \"정우진\",\n",
    "    \"김지은\", \"이현우\", \"박민지\", \"최준호\", \"정유진\",\n",
    "    \"김민준\", \"이지은\", \"박서준\", \"최수연\", \"정다은\",\n",
    "    \"김현수\", \"이지호\", \"박다영\", \"최서현\", \"정민호\",\n",
    "    \"김지훈\", \"이민정\", \"박현우\", \"최지민\", \"정다훈\",\n",
    "    \"김유진\", \"이지훈\", \"박민서\", \"최준영\", \"정수연\",\n",
    "    \"김서연\", \"이우진\", \"박다은\", \"최민호\", \"정지호\",\n",
    "    \"김다은\", \"이현준\", \"박지유\", \"최준수\", \"정지민\",\n",
    "    \"김지수\", \"이민수\", \"박현서\", \"최다은\", \"정민수\",\n",
    "    \"김유빈\", \"이준서\", \"박서영\", \"최지훈\", \"정다영\",\n",
    "    \"김우진\", \"이지후\", \"박민호\", \"최서준\", \"정민지\",\n",
    "    \"김현지\", \"이다인\", \"박준영\", \"최유진\", \"정준호\",\n",
    "    \"김지현\", \"이승우\", \"박주현\", \"최지호\", \"정다현\",\n",
    "    \"김하은\", \"이준호\", \"박수현\", \"최민준\", \"정서윤\",\n",
    "    \"김다인\", \"이지안\", \"박준서\", \"최하은\", \"정유나\",\n",
    "    \"김현서\", \"이지수\", \"박소영\", \"최주현\", \"정다희\",\n",
    "    \"김주현\", \"이지연\", \"박지우\", \"최수호\", \"정준서\",\n",
    "    \"김나은\", \"이우빈\", \"박주은\", \"최하윤\", \"정수민\",\n",
    "    \"김태윤\", \"이서윤\", \"박채은\", \"최준우\", \"정서진\",\n",
    "    \"김지호\", \"이승현\", \"박지연\", \"최은서\", \"정채원\"\n",
    "]"
   ]
  },
  {
   "cell_type": "code",
   "execution_count": 21,
   "id": "7badc5d5-1b21-4616-a509-9ecceb8ccb45",
   "metadata": {},
   "outputs": [
    {
     "data": {
      "text/html": [
       "<div>\n",
       "<style scoped>\n",
       "    .dataframe tbody tr th:only-of-type {\n",
       "        vertical-align: middle;\n",
       "    }\n",
       "\n",
       "    .dataframe tbody tr th {\n",
       "        vertical-align: top;\n",
       "    }\n",
       "\n",
       "    .dataframe thead th {\n",
       "        text-align: right;\n",
       "    }\n",
       "</style>\n",
       "<table border=\"1\" class=\"dataframe\">\n",
       "  <thead>\n",
       "    <tr style=\"text-align: right;\">\n",
       "      <th></th>\n",
       "      <th>Year</th>\n",
       "      <th>CustomerName</th>\n",
       "      <th>SleepScore</th>\n",
       "    </tr>\n",
       "  </thead>\n",
       "  <tbody>\n",
       "    <tr>\n",
       "      <th>0</th>\n",
       "      <td>2024</td>\n",
       "      <td>김민수</td>\n",
       "      <td>67.183571</td>\n",
       "    </tr>\n",
       "    <tr>\n",
       "      <th>1</th>\n",
       "      <td>2024</td>\n",
       "      <td>이서연</td>\n",
       "      <td>64.008678</td>\n",
       "    </tr>\n",
       "    <tr>\n",
       "      <th>2</th>\n",
       "      <td>2024</td>\n",
       "      <td>박지훈</td>\n",
       "      <td>67.938443</td>\n",
       "    </tr>\n",
       "    <tr>\n",
       "      <th>3</th>\n",
       "      <td>2024</td>\n",
       "      <td>최지아</td>\n",
       "      <td>72.315149</td>\n",
       "    </tr>\n",
       "    <tr>\n",
       "      <th>4</th>\n",
       "      <td>2024</td>\n",
       "      <td>정우진</td>\n",
       "      <td>63.529233</td>\n",
       "    </tr>\n",
       "    <tr>\n",
       "      <th>5</th>\n",
       "      <td>2024</td>\n",
       "      <td>김지은</td>\n",
       "      <td>63.529315</td>\n",
       "    </tr>\n",
       "    <tr>\n",
       "      <th>6</th>\n",
       "      <td>2024</td>\n",
       "      <td>이현우</td>\n",
       "      <td>72.596064</td>\n",
       "    </tr>\n",
       "    <tr>\n",
       "      <th>7</th>\n",
       "      <td>2024</td>\n",
       "      <td>박민지</td>\n",
       "      <td>68.537174</td>\n",
       "    </tr>\n",
       "    <tr>\n",
       "      <th>8</th>\n",
       "      <td>2024</td>\n",
       "      <td>최준호</td>\n",
       "      <td>62.352628</td>\n",
       "    </tr>\n",
       "    <tr>\n",
       "      <th>9</th>\n",
       "      <td>2024</td>\n",
       "      <td>정유진</td>\n",
       "      <td>67.412800</td>\n",
       "    </tr>\n",
       "    <tr>\n",
       "      <th>10</th>\n",
       "      <td>2024</td>\n",
       "      <td>김민준</td>\n",
       "      <td>62.382912</td>\n",
       "    </tr>\n",
       "    <tr>\n",
       "      <th>11</th>\n",
       "      <td>2024</td>\n",
       "      <td>이지은</td>\n",
       "      <td>62.371351</td>\n",
       "    </tr>\n",
       "  </tbody>\n",
       "</table>\n",
       "</div>"
      ],
      "text/plain": [
       "    Year CustomerName  SleepScore\n",
       "0   2024          김민수   67.183571\n",
       "1   2024          이서연   64.008678\n",
       "2   2024          박지훈   67.938443\n",
       "3   2024          최지아   72.315149\n",
       "4   2024          정우진   63.529233\n",
       "5   2024          김지은   63.529315\n",
       "6   2024          이현우   72.596064\n",
       "7   2024          박민지   68.537174\n",
       "8   2024          최준호   62.352628\n",
       "9   2024          정유진   67.412800\n",
       "10  2024          김민준   62.382912\n",
       "11  2024          이지은   62.371351"
      ]
     },
     "execution_count": 21,
     "metadata": {},
     "output_type": "execute_result"
    }
   ],
   "source": [
    "import pandas as pd\n",
    "import numpy as np\n",
    "\n",
    "# 랜덤 시드 설정 (재현 가능성을 위해)\n",
    "np.random.seed(42)\n",
    "\n",
    "# 연도와 평균 수면 점수 설정\n",
    "years = [2024, 2025, 2026, 2027, 2028, 2029]\n",
    "avg_scores = [64.7, 68.9, 73.5, 80.1, 82.1, 83.3]\n",
    "\n",
    "# 빈 데이터프레임 생성\n",
    "data = pd.DataFrame()\n",
    "\n",
    "# 더미 데이터 생성\n",
    "for year, avg_score in zip(years, avg_scores):\n",
    "    # 표준 편차 5를 가지는 정규 분포를 따르는 수면 점수 생성\n",
    "    sleep_scores = np.random.normal(loc=avg_score, scale=5, size=100)\n",
    "    # 점수를 0에서 100 사이로 제한\n",
    "    sleep_scores = np.clip(sleep_scores, 0, 100)\n",
    "    # 현재 연도의 데이터프레임 생성\n",
    "    year_data = pd.DataFrame({\n",
    "        'Year': year,\n",
    "        'CustomerName': names,\n",
    "        'SleepScore': sleep_scores\n",
    "    })\n",
    "    # 전체 데이터프레임에 현재 연도 데이터 추가\n",
    "    data = pd.concat([data, year_data], ignore_index=True)\n",
    "\n",
    "# 결과 출력 (데이터프레임의 처음과 끝 일부를 확인)\n",
    "data.head(12)\n",
    "\n"
   ]
  },
  {
   "cell_type": "code",
   "execution_count": 15,
   "id": "d1452f58-f1ae-4d0f-bcdd-b71925a3f498",
   "metadata": {},
   "outputs": [],
   "source": [
    "sleep_avg = data[['SleepScore','Year']].groupby(by='Year').mean().round(1)"
   ]
  },
  {
   "cell_type": "code",
   "execution_count": 19,
   "id": "8afdb92f-d28e-4f6b-9171-bb39507419e7",
   "metadata": {},
   "outputs": [
    {
     "data": {
      "text/plain": [
       "<Axes: xlabel='CX 수면점수'>"
      ]
     },
     "execution_count": 19,
     "metadata": {},
     "output_type": "execute_result"
    },
    {
     "data": {
      "image/png": "[encoded data removed]",
      "text/plain": [
       "<Figure size 640x480 with 1 Axes>"
      ]
     },
     "metadata": {},
     "output_type": "display_data"
    }
   ],
   "source": [
    "sleep_avg.plot(kind='line', xlabel='CX 수면점수', ylim = (60,90), color = 'pink')"
   ]
  },
  {
   "cell_type": "code",
   "execution_count": 17,
   "id": "48434d59-0144-4713-a0bd-64fbcda9cdbd",
   "metadata": {},
   "outputs": [
    {
     "data": {
      "text/html": [
       "<div>\n",
       "<style scoped>\n",
       "    .dataframe tbody tr th:only-of-type {\n",
       "        vertical-align: middle;\n",
       "    }\n",
       "\n",
       "    .dataframe tbody tr th {\n",
       "        vertical-align: top;\n",
       "    }\n",
       "\n",
       "    .dataframe thead th {\n",
       "        text-align: right;\n",
       "    }\n",
       "</style>\n",
       "<table border=\"1\" class=\"dataframe\">\n",
       "  <thead>\n",
       "    <tr style=\"text-align: right;\">\n",
       "      <th></th>\n",
       "      <th>SleepScore</th>\n",
       "    </tr>\n",
       "    <tr>\n",
       "      <th>Year</th>\n",
       "      <th></th>\n",
       "    </tr>\n",
       "  </thead>\n",
       "  <tbody>\n",
       "    <tr>\n",
       "      <th>2024</th>\n",
       "      <td>64.2</td>\n",
       "    </tr>\n",
       "    <tr>\n",
       "      <th>2025</th>\n",
       "      <td>69.0</td>\n",
       "    </tr>\n",
       "    <tr>\n",
       "      <th>2026</th>\n",
       "      <td>73.8</td>\n",
       "    </tr>\n",
       "    <tr>\n",
       "      <th>2027</th>\n",
       "      <td>80.6</td>\n",
       "    </tr>\n",
       "    <tr>\n",
       "      <th>2028</th>\n",
       "      <td>81.8</td>\n",
       "    </tr>\n",
       "    <tr>\n",
       "      <th>2029</th>\n",
       "      <td>82.7</td>\n",
       "    </tr>\n",
       "  </tbody>\n",
       "</table>\n",
       "</div>"
      ],
      "text/plain": [
       "      SleepScore\n",
       "Year            \n",
       "2024        64.2\n",
       "2025        69.0\n",
       "2026        73.8\n",
       "2027        80.6\n",
       "2028        81.8\n",
       "2029        82.7"
      ]
     },
     "execution_count": 17,
     "metadata": {},
     "output_type": "execute_result"
    }
   ],
   "source": [
    "sleep_avg"
   ]
  }
 ],
 "metadata": {
  "kernelspec": {
   "display_name": "Python 3 (ipykernel)",
   "language": "python",
   "name": "python3"
  },
  "language_info": {
   "codemirror_mode": {
    "name": "ipython",
    "version": 3
   },
   "file_extension": ".py",
   "mimetype": "text/x-python",
   "name": "python",
   "nbconvert_exporter": "python",
   "pygments_lexer": "ipython3",
   "version": "3.11.7"
  }
 },
 "nbformat": 4,
 "nbformat_minor": 5
}
