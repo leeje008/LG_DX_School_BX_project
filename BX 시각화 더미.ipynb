{
 "cells": [
  {
   "cell_type": "code",
   "execution_count": 6,
   "id": "8fa30963-a258-4b0b-ac18-eb6cd98b7278",
   "metadata": {},
   "outputs": [],
   "source": [
    "import pandas as pd\n",
    "import numpy as np"
   ]
  },
  {
   "cell_type": "code",
   "execution_count": 3,
   "id": "56cb9119-a52e-4e3e-9620-7e5f0fdf8e3b",
   "metadata": {},
   "outputs": [],
   "source": [
    "# 한글 폰트 적용\n",
    "import matplotlib.pyplot as plt\n",
    "plt.rc('font', family='Malgun Gothic')"
   ]
  },
  {
   "cell_type": "code",
   "execution_count": 15,
   "id": "e2c8e9f4-a410-46da-92f4-588d995ea094",
   "metadata": {},
   "outputs": [],
   "source": [
    "dum = pd.Series([1000, 3000, 10000,12000,13000,12500], index=[2024,2025,2026,2027,2028,2029])"
   ]
  },
  {
   "cell_type": "code",
   "execution_count": 21,
   "id": "01aa2842-52da-469c-8763-fb646bd4e4f3",
   "metadata": {},
   "outputs": [
    {
     "data": {
      "text/html": [
       "<div>\n",
       "<style scoped>\n",
       "    .dataframe tbody tr th:only-of-type {\n",
       "        vertical-align: middle;\n",
       "    }\n",
       "\n",
       "    .dataframe tbody tr th {\n",
       "        vertical-align: top;\n",
       "    }\n",
       "\n",
       "    .dataframe thead th {\n",
       "        text-align: right;\n",
       "    }\n",
       "</style>\n",
       "<table border=\"1\" class=\"dataframe\">\n",
       "  <thead>\n",
       "    <tr style=\"text-align: right;\">\n",
       "      <th></th>\n",
       "      <th>Year</th>\n",
       "      <th>Month</th>\n",
       "      <th>Users</th>\n",
       "    </tr>\n",
       "  </thead>\n",
       "  <tbody>\n",
       "    <tr>\n",
       "      <th>0</th>\n",
       "      <td>2024</td>\n",
       "      <td>1</td>\n",
       "      <td>55</td>\n",
       "    </tr>\n",
       "    <tr>\n",
       "      <th>1</th>\n",
       "      <td>2024</td>\n",
       "      <td>2</td>\n",
       "      <td>60</td>\n",
       "    </tr>\n",
       "    <tr>\n",
       "      <th>2</th>\n",
       "      <td>2024</td>\n",
       "      <td>3</td>\n",
       "      <td>65</td>\n",
       "    </tr>\n",
       "    <tr>\n",
       "      <th>3</th>\n",
       "      <td>2024</td>\n",
       "      <td>4</td>\n",
       "      <td>70</td>\n",
       "    </tr>\n",
       "    <tr>\n",
       "      <th>4</th>\n",
       "      <td>2024</td>\n",
       "      <td>5</td>\n",
       "      <td>75</td>\n",
       "    </tr>\n",
       "    <tr>\n",
       "      <th>5</th>\n",
       "      <td>2024</td>\n",
       "      <td>6</td>\n",
       "      <td>80</td>\n",
       "    </tr>\n",
       "    <tr>\n",
       "      <th>6</th>\n",
       "      <td>2024</td>\n",
       "      <td>7</td>\n",
       "      <td>85</td>\n",
       "    </tr>\n",
       "    <tr>\n",
       "      <th>7</th>\n",
       "      <td>2024</td>\n",
       "      <td>8</td>\n",
       "      <td>90</td>\n",
       "    </tr>\n",
       "    <tr>\n",
       "      <th>8</th>\n",
       "      <td>2024</td>\n",
       "      <td>9</td>\n",
       "      <td>95</td>\n",
       "    </tr>\n",
       "    <tr>\n",
       "      <th>9</th>\n",
       "      <td>2024</td>\n",
       "      <td>10</td>\n",
       "      <td>101</td>\n",
       "    </tr>\n",
       "    <tr>\n",
       "      <th>10</th>\n",
       "      <td>2024</td>\n",
       "      <td>11</td>\n",
       "      <td>106</td>\n",
       "    </tr>\n",
       "    <tr>\n",
       "      <th>11</th>\n",
       "      <td>2024</td>\n",
       "      <td>12</td>\n",
       "      <td>118</td>\n",
       "    </tr>\n",
       "  </tbody>\n",
       "</table>\n",
       "</div>"
      ],
      "text/plain": [
       "    Year  Month  Users\n",
       "0   2024      1     55\n",
       "1   2024      2     60\n",
       "2   2024      3     65\n",
       "3   2024      4     70\n",
       "4   2024      5     75\n",
       "5   2024      6     80\n",
       "6   2024      7     85\n",
       "7   2024      8     90\n",
       "8   2024      9     95\n",
       "9   2024     10    101\n",
       "10  2024     11    106\n",
       "11  2024     12    118"
      ]
     },
     "execution_count": 21,
     "metadata": {},
     "output_type": "execute_result"
    }
   ],
   "source": [
    "import numpy as np\n",
    "import pandas as pd\n",
    "\n",
    "# 랜덤 시드 설정 (재현 가능성을 위해)\n",
    "np.random.seed(42)\n",
    "\n",
    "# 연도와 사용자 수 설정\n",
    "years = [2024, 2025, 2026, 2027, 2028, 2029]\n",
    "user_amounts = [1000, 3000, 10000, 12000, 13000, 12500]\n",
    "\n",
    "# 빈 데이터프레임 생성\n",
    "data = pd.DataFrame()\n",
    "\n",
    "# 더미 데이터 생성\n",
    "for year, user_amount in zip(years, user_amounts):\n",
    "    # 사용자 수가 점진적으로 증가하도록 월별 사용자 수 설정\n",
    "    monthly_user_amounts = np.linspace(start=1, stop=2, num=12)\n",
    "    monthly_user_amounts = (monthly_user_amounts / monthly_user_amounts.sum()) * user_amount\n",
    "    monthly_user_amounts = monthly_user_amounts.astype(int)\n",
    "    monthly_user_amounts[-1] = user_amount - monthly_user_amounts[:-1].sum()  # 합계가 맞도록 마지막 달 조정\n",
    "    \n",
    "    for month, monthly_user_amount in enumerate(monthly_user_amounts, start=1):\n",
    "        # 현재 연도와 월의 데이터프레임 생성\n",
    "        month_data = pd.DataFrame({\n",
    "            'Year': [year],\n",
    "            'Month': [month],\n",
    "            'Users': [monthly_user_amount]\n",
    "        })\n",
    "        # 전체 데이터프레임에 현재 연도와 월의 데이터 추가\n",
    "        data = pd.concat([data, month_data], ignore_index=True)\n",
    "\n",
    "# 결과 출력 (데이터프레임의 처음과 끝 일부를 확인)\n",
    "data.head(12)"
   ]
  },
  {
   "cell_type": "code",
   "execution_count": 22,
   "id": "832ca079-2d8e-42f1-b862-933ee618156f",
   "metadata": {},
   "outputs": [],
   "source": [
    "user_amount = data[['Year','Users']].groupby(by='Year').sum()"
   ]
  },
  {
   "cell_type": "code",
   "execution_count": 23,
   "id": "ae9e9818-bd22-4e94-854c-443267e0f4dd",
   "metadata": {},
   "outputs": [],
   "source": [
    "colors_bx = ['#CEDEF2','#A0C4F2','#6DA7F2','#035AA6','#023373','#023373']"
   ]
  },
  {
   "cell_type": "code",
   "execution_count": 26,
   "id": "30a6d00c-2a84-47b8-b6a5-a91b37494ec2",
   "metadata": {},
   "outputs": [
    {
     "data": {
      "text/plain": [
       "<Axes: title={'center': 'BX - 앱 사용량 증가'}>"
      ]
     },
     "execution_count": 26,
     "metadata": {},
     "output_type": "execute_result"
    },
    {
     "data": {
      "image/png": "[encoded data removed]",
      "text/plain": [
       "<Figure size 640x480 with 1 Axes>"
      ]
     },
     "metadata": {},
     "output_type": "display_data"
    }
   ],
   "source": [
    "dum.plot(kind='bar', rot=0, color=colors_bx, title = 'BX - 앱 사용량 증가' )"
   ]
  }
 ],
 "metadata": {
  "kernelspec": {
   "display_name": "Python 3 (ipykernel)",
   "language": "python",
   "name": "python3"
  },
  "language_info": {
   "codemirror_mode": {
    "name": "ipython",
    "version": 3
   },
   "file_extension": ".py",
   "mimetype": "text/x-python",
   "name": "python",
   "nbconvert_exporter": "python",
   "pygments_lexer": "ipython3",
   "version": "3.11.7"
  }
 },
 "nbformat": 4,
 "nbformat_minor": 5
}
